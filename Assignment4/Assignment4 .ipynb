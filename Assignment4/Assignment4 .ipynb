{
 "cells": [
  {
   "cell_type": "code",
   "execution_count": 333,
   "metadata": {
    "colab": {},
    "colab_type": "code",
    "id": "597wDiAvGvuB"
   },
   "outputs": [],
   "source": [
    "#import required libraries \n",
    "import numpy as np\n",
    "import idx2numpy\n",
    "import matplotlib.pyplot as plt\n",
    "import pandas as pd "
   ]
  },
  {
   "cell_type": "code",
   "execution_count": 334,
   "metadata": {},
   "outputs": [],
   "source": [
    "f1 = 'train-images-idx3-ubyte'\n",
    "f2 = 'train-labels-idx1-ubyte'\n",
    "f3 = 't10k-images-idx3-ubyte'\n",
    "f4 = 't10k-labels-idx1-ubyte'\n",
    "\n",
    "# Convert files into numpy array\n",
    "Xtrain = idx2numpy.convert_from_file(f1)\n",
    "Ytrain = idx2numpy.convert_from_file(f2)\n",
    "Xtest = idx2numpy.convert_from_file(f3)\n",
    "Ytest = idx2numpy.convert_from_file(f4)\n",
    "\n",
    "IndicesTrain = Ytrain"
   ]
  },
  {
   "cell_type": "code",
   "execution_count": 335,
   "metadata": {},
   "outputs": [],
   "source": [
    "Xtrain = Xtrain.reshape(-1,784)                   # flattening the array of pixles \n",
    "Xtest = Xtest.reshape(-1,784)\n",
    "Xtrain = Xtrain / 255.0                           # Normalization\n",
    "Xtest = Xtest / 255.0"
   ]
  },
  {
   "cell_type": "code",
   "execution_count": 400,
   "metadata": {},
   "outputs": [],
   "source": [
    "batch_size = 64                               # number of observations in minibatch \n",
    "inputdim = 784                                # dimension of the input layer \n",
    "hiddendim = 512                               # dimension of the hidden layer\n",
    "outputdim = 10                                # dimension of the output layer \n",
    "alpha = 0.01                                  # learning rate\n",
    "nb = len(Xtrain)/ batch_size                  # number of minibatches  "
   ]
  },
  {
   "cell_type": "code",
   "execution_count": 380,
   "metadata": {
    "colab": {},
    "colab_type": "code",
    "id": "hImaaujc5zXg"
   },
   "outputs": [],
   "source": [
    "Ytrain = pd.get_dummies(Ytrain)               # one hot encoding"
   ]
  },
  {
   "cell_type": "code",
   "execution_count": 401,
   "metadata": {
    "colab": {},
    "colab_type": "code",
    "id": "C9HRf0Wj52cK"
   },
   "outputs": [],
   "source": [
    "W1 = (0.2)*np.random.randn(inputdim, hiddendim)             # Initialization of weight matrices \n",
    "W2 = (0.2)*np.random.randn(hiddendim,outputdim)"
   ]
  },
  {
   "cell_type": "code",
   "execution_count": 359,
   "metadata": {},
   "outputs": [],
   "source": [
    "def relu(a):                                         # Relu activation function   \n",
    "    return np.maximum(a,0)\n",
    "\n",
    "def grad_relu(x):                                    # Gradient of Relu\n",
    "    return 1. * (x > 0)\n",
    "\n",
    "def softmax(z):                                      # Softmax activation function\n",
    "    return np.exp(z) / np.sum(np.exp(z),axis=1,keepdims=True)\n",
    "    "
   ]
  },
  {
   "cell_type": "markdown",
   "metadata": {},
   "source": [
    "ForwardProp function takes the value of corresponding batch inpur(X_Batch) and weight matrieces (W1 and W2) and returns the value of z and activated output. Here, the relu activation function is used for hidden layer and softmax activation function is used for output layer.\n",
    " "
   ]
  },
  {
   "cell_type": "code",
   "execution_count": 360,
   "metadata": {},
   "outputs": [],
   "source": [
    "def ForwardProp(X_Batch,W1,W2):                      # Forward propagation       \n",
    "    z1 =np.dot(X_Batch,W1)\n",
    "    a1 =relu(z1)\n",
    "    z2 = np.dot(a1,W2)\n",
    "    a2 = softmax(z2) \n",
    "    return z1,a1,z2,a2"
   ]
  },
  {
   "cell_type": "code",
   "execution_count": 361,
   "metadata": {},
   "outputs": [],
   "source": [
    "def Cost(a2, Indices_Batch):                     # calculates the log loss for given output a2.  \n",
    "    neglog = -np.log(a2+0.00000001)\n",
    "    return np.mean(np.diag(np.take(neglog, Indices_Batch, axis=1)))"
   ]
  },
  {
   "attachments": {},
   "cell_type": "markdown",
   "metadata": {},
   "source": [
    "BackProp function takes the relevant input i.e, X and Y of the minibatch, weight matrices and activated output of hidden and output layer and returns the gradient of weight W2 and W1.  "
   ]
  },
  {
   "cell_type": "code",
   "execution_count": 362,
   "metadata": {},
   "outputs": [],
   "source": [
    "def BackProp(X_Batch, Y_Batch, a1, a2, W1, W2, z1):\n",
    "    grad = a2 - Y_Batch\n",
    "    dW2 = np.dot(np.transpose(a1),grad)\n",
    "    da1 = np.dot(grad,np.transpose(W2))\n",
    "    dz1 = da1*grad_relu(z1)\n",
    "    dW1 = np.dot(X_Batch.T,dz1)\n",
    "    return dW2,dW1"
   ]
  },
  {
   "cell_type": "code",
   "execution_count": 402,
   "metadata": {
    "colab": {
     "base_uri": "https://localhost:8080/",
     "height": 697
    },
    "colab_type": "code",
    "id": "Gjz4yhwE6JQw",
    "outputId": "341578db-29a4-48ca-b0f8-a0343aadd24b"
   },
   "outputs": [
    {
     "name": "stdout",
     "output_type": "stream",
     "text": [
      " Epoch: 0, iteration: 0, Loss: 7.3977 \n",
      " Epoch: 1, iteration: 937, Loss: 0.0617 \n",
      " Epoch: 2, iteration: 1874, Loss: 0.0290 \n",
      " Epoch: 3, iteration: 2811, Loss: 0.0155 \n",
      " Epoch: 4, iteration: 3748, Loss: 0.0106 \n",
      " Epoch: 5, iteration: 4685, Loss: 0.0101 \n",
      " Epoch: 6, iteration: 5622, Loss: 0.0118 \n",
      " Epoch: 7, iteration: 6559, Loss: 0.0062 \n",
      " Epoch: 8, iteration: 7496, Loss: 0.0055 \n",
      " Epoch: 9, iteration: 8433, Loss: 0.0040 \n",
      " Epoch: 10, iteration: 9370, Loss: 0.0025 \n",
      " Epoch: 11, iteration: 10307, Loss: 0.0025 \n",
      " Epoch: 12, iteration: 11244, Loss: 0.0025 \n",
      " Epoch: 13, iteration: 12181, Loss: 0.0024 \n",
      " Epoch: 14, iteration: 13118, Loss: 0.0023 \n",
      " Epoch: 15, iteration: 14055, Loss: 0.0023 \n",
      " Epoch: 16, iteration: 14992, Loss: 0.0022 \n",
      " Epoch: 17, iteration: 15929, Loss: 0.0021 \n",
      " Epoch: 18, iteration: 16866, Loss: 0.0020 \n",
      " Epoch: 19, iteration: 17803, Loss: 0.0020 \n",
      " Epoch: 20, iteration: 18740, Loss: 0.0020 \n",
      " Epoch: 21, iteration: 19677, Loss: 0.0019 \n"
     ]
    }
   ],
   "source": [
    "nl = 20000\n",
    "Loss = []\n",
    "I = []\n",
    "i_epoch = 0\n",
    "\n",
    "for i in range(nl):\n",
    "    index = i%nb\n",
    "    X_Batch = Xtrain[index*batch_size:(index+1)*batch_size]\n",
    "    Y_Batch = Ytrain[index*batch_size:(index+1)*batch_size]\n",
    "    Indices_Batch = IndicesTrain[index*batch_size:(index+1)*batch_size]\n",
    "    \n",
    "    z1,a1,z2,a2 = ForwardProp(X_Batch, W1,W2)\n",
    "    \n",
    "    if i%nb == 0:\n",
    "        loss = Cost(a2, Indices_Batch)  \n",
    "        print(\" Epoch: {:d}, iteration: {:d}, Loss: {:6.4f} \".format(i_epoch, i, loss))\n",
    "        I.append(i)\n",
    "        Loss.append(loss)\n",
    "        i_epoch += 1\n",
    "        \n",
    "        if i_epoch%10 == 0:\n",
    "            alpha /= 10.0\n",
    "     \n",
    "    \n",
    "\n",
    "    dW2, dW1 = BackProp(X_Batch, Y_Batch, a1, a2, W1, W2, z1)\n",
    "    W2 -= alpha * dW2\n",
    "    W1 -= alpha * dW1\n",
    "\n",
    "    "
   ]
  },
  {
   "cell_type": "markdown",
   "metadata": {},
   "source": [
    "As the loss decreases sharply for initial iterations, the axis for loss is taken as semilog axis"
   ]
  },
  {
   "cell_type": "code",
   "execution_count": 383,
   "metadata": {},
   "outputs": [
    {
     "data": {
      "text/plain": [
       "[<matplotlib.lines.Line2D at 0x7f2b66c1ca90>]"
      ]
     },
     "execution_count": 383,
     "metadata": {},
     "output_type": "execute_result"
    },
    {
     "data": {
      "image/png": "[encoded data removed]",
      "text/plain": [
       "<Figure size 432x288 with 1 Axes>"
      ]
     },
     "metadata": {
      "needs_background": "light"
     },
     "output_type": "display_data"
    }
   ],
   "source": [
    "# alpha = 0.001, dimension of hidden layer = 512, Batch size = 64, Number of iteration = 20000\n",
    "plt.semilogy()\n",
    "plt.xlabel(\"Number of Iteration\")\n",
    "plt.ylabel(\"Loss\")\n",
    "plt.plot(I,Loss)\n",
    "\n",
    "# Loss fluctuates around 0.027"
   ]
  },
  {
   "cell_type": "code",
   "execution_count": 375,
   "metadata": {},
   "outputs": [
    {
     "data": {
      "text/plain": [
       "[<matplotlib.lines.Line2D at 0x7f2b64a66b10>]"
      ]
     },
     "execution_count": 375,
     "metadata": {},
     "output_type": "execute_result"
    },
    {
     "data": {
      "image/png": "[encoded data removed]",
      "text/plain": [
       "<Figure size 432x288 with 1 Axes>"
      ]
     },
     "metadata": {
      "needs_background": "light"
     },
     "output_type": "display_data"
    }
   ],
   "source": [
    "# alpha = 0.01, dimension of hidden layer = 512, Batch size = 64, Number of iteration = 20000\n",
    "plt.semilogy()\n",
    "plt.xlabel(\"Number of Iteration\")\n",
    "plt.ylabel(\"Loss\")\n",
    "plt.plot(I,Loss)\n",
    "\n",
    "# Loss fluctuate around 0.0015"
   ]
  },
  {
   "cell_type": "markdown",
   "metadata": {},
   "source": [
    "For alpha = 0.001 the loss got constant at 0.0273, but for alpha = 0.01 it got saturated at 0.0015. So, for lower learning rate model might get stuck in some local minima. "
   ]
  },
  {
   "cell_type": "code",
   "execution_count": 387,
   "metadata": {},
   "outputs": [
    {
     "data": {
      "text/plain": [
       "[<matplotlib.lines.Line2D at 0x7f2b648ba710>]"
      ]
     },
     "execution_count": 387,
     "metadata": {},
     "output_type": "execute_result"
    },
    {
     "data": {
      "image/png": "[encoded data removed]",
      "text/plain": [
       "<Figure size 432x288 with 1 Axes>"
      ]
     },
     "metadata": {
      "needs_background": "light"
     },
     "output_type": "display_data"
    }
   ],
   "source": [
    "# alpha = 0.01, dimension of hidden layer = 64, Batch size = 64, Number of iteration = 20000\n",
    "plt.semilogy()\n",
    "plt.xlabel(\"Number of Iteration\")\n",
    "plt.ylabel(\"Loss\")\n",
    "plt.plot(I,Loss)"
   ]
  },
  {
   "cell_type": "code",
   "execution_count": 391,
   "metadata": {},
   "outputs": [
    {
     "data": {
      "text/plain": [
       "[<matplotlib.lines.Line2D at 0x7f2b64785090>]"
      ]
     },
     "execution_count": 391,
     "metadata": {},
     "output_type": "execute_result"
    },
    {
     "data": {
      "image/png": "[encoded data removed]",
      "text/plain": [
       "<Figure size 432x288 with 1 Axes>"
      ]
     },
     "metadata": {
      "needs_background": "light"
     },
     "output_type": "display_data"
    }
   ],
   "source": [
    "# alpha = 0.01, dimension of hidden layer = 128, Batch size = 64, Number of iteration = 20000\n",
    "plt.semilogy()\n",
    "plt.xlabel(\"Number of Iteration\")\n",
    "plt.ylabel(\"Loss\")\n",
    "plt.plot(I,Loss)\n",
    "\n",
    "# It fluctuates around 0.006"
   ]
  },
  {
   "cell_type": "code",
   "execution_count": 395,
   "metadata": {},
   "outputs": [
    {
     "data": {
      "text/plain": [
       "[<matplotlib.lines.Line2D at 0x7f2b649cf3d0>]"
      ]
     },
     "execution_count": 395,
     "metadata": {},
     "output_type": "execute_result"
    },
    {
     "data": {
      "image/png": "[encoded data removed]",
      "text/plain": [
       "<Figure size 432x288 with 1 Axes>"
      ]
     },
     "metadata": {
      "needs_background": "light"
     },
     "output_type": "display_data"
    }
   ],
   "source": [
    "# alpha = 0.01, dimension of hidden layer = 256, Batch size = 64, Number of iteration = 20000\n",
    "plt.semilogy()\n",
    "plt.xlabel(\"Number of Iteration\")\n",
    "plt.ylabel(\"Loss\")\n",
    "plt.plot(I,Loss)\n",
    "\n",
    "# It fluctuates around 0.004"
   ]
  },
  {
   "cell_type": "code",
   "execution_count": 399,
   "metadata": {},
   "outputs": [
    {
     "data": {
      "text/plain": [
       "[<matplotlib.lines.Line2D at 0x7f2b6451d910>]"
      ]
     },
     "execution_count": 399,
     "metadata": {},
     "output_type": "execute_result"
    },
    {
     "data": {
      "image/png": "[encoded data removed]",
      "text/plain": [
       "<Figure size 432x288 with 1 Axes>"
      ]
     },
     "metadata": {
      "needs_background": "light"
     },
     "output_type": "display_data"
    }
   ],
   "source": [
    "# alpha = 0.01, dimension of hidden layer = 1024, Batch size = 64, Number of iteration = 20000\n",
    "plt.semilogy()\n",
    "plt.xlabel(\"Number of Iteration\")\n",
    "plt.ylabel(\"Loss\")\n",
    "plt.plot(I,Loss)\n",
    "\n",
    "# It fluctuates around 0.0012"
   ]
  },
  {
   "cell_type": "markdown",
   "metadata": {},
   "source": [
    "Training the model with hidden layer dimension of 1024 is computationally much more expensive, but the change in loss is not that much significant. So here dimenstion of hidden layer is kept 512.  "
   ]
  },
  {
   "cell_type": "code",
   "execution_count": 355,
   "metadata": {},
   "outputs": [
    {
     "name": "stdout",
     "output_type": "stream",
     "text": [
      "Test accuracy is 97.9400 %\n"
     ]
    }
   ],
   "source": [
    "batch_size_test = 100 \n",
    "nb = len(Ytest)/batch_size_test\n",
    "correct = 0\n",
    "\n",
    "\n",
    "for i in range(int(nb)):\n",
    "    index = i%nb\n",
    "    X_Batch = Xtest[i*batch_size_test:(i+1)*batch_size_test]\n",
    "    Y_Batch = Ytest[i*batch_size_test:(i+1)*batch_size_test]\n",
    "\n",
    "    z1,a1,z2,a2 = ForwardProp(X_Batch, W1,W2)\n",
    "    \n",
    "    Y_Pred = np.argmax(a2, axis=1)\n",
    "    correct +=  np.sum(Y_Pred == Y_Batch)\n",
    "    accuracy = float(correct)/float(len(Ytest)) \n",
    "    \n",
    "print (\"Test accuracy is {:4.4f} %\".format(accuracy*100))"
   ]
  },
  {
   "cell_type": "code",
   "execution_count": null,
   "metadata": {},
   "outputs": [],
   "source": []
  }
 ],
 "metadata": {
  "colab": {
   "collapsed_sections": [],
   "name": "2_Hidden_MLP_New.ipynb",
   "provenance": [],
   "version": "0.3.2"
  },
  "kernelspec": {
   "display_name": "Python 3",
   "language": "python",
   "name": "python3"
  },
  "language_info": {
   "codemirror_mode": {
    "name": "ipython",
    "version": 2
   },
   "file_extension": ".py",
   "mimetype": "text/x-python",
   "name": "python",
   "nbconvert_exporter": "python",
   "pygments_lexer": "ipython2",
   "version": "2.7.15rc1"
  }
 },
 "nbformat": 4,
 "nbformat_minor": 2
}
